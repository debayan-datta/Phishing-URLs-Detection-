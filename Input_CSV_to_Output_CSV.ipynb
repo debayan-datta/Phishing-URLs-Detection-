{
 "cells": [
  {
   "cell_type": "code",
   "execution_count": 1,
   "metadata": {},
   "outputs": [],
   "source": [
    "import csv\n",
    "\n",
    "# Define the full path for your input CSV file and output CSV file\n",
    "input_file = r'C:\\Users\\Achilles2000\\Desktop\\Data\\Main Files\\New Data\\test.csv'\n",
    "output_file = r'C:\\Users\\Achilles2000\\Desktop\\Data\\Main Files\\New Data\\output.csv'\n",
    "\n",
    "# Function to extract the second column from the input CSV and write it to the output CSV\n",
    "def extract_second_column(input_file, output_file, rows_to_extract=9):\n",
    "    with open(input_file, 'r', newline='') as file:\n",
    "        reader = csv.reader(file)\n",
    "        header = next(reader)  # Assuming the first row is the header, you can omit this if not needed\n",
    "        data = [header[1]]  # Add the header of the second column to the data list\n",
    "        for _ in range(rows_to_extract):\n",
    "            try:\n",
    "                row = next(reader)\n",
    "                data.append(row[1])  # Append the value of the second column to the data list\n",
    "            except StopIteration:  # In case the file has less than 15 rows\n",
    "                break\n",
    "    \n",
    "    with open(output_file, 'w', newline='') as file:\n",
    "        writer = csv.writer(file)\n",
    "        for item in data:\n",
    "            writer.writerow([item])  # Write each item in the data list as a row in the output CSV\n",
    "\n",
    "# Call the function to extract the second column\n",
    "extract_second_column(input_file, output_file)\n"
   ]
  },
  {
   "cell_type": "code",
   "execution_count": 2,
   "metadata": {},
   "outputs": [
    {
     "name": "stdout",
     "output_type": "stream",
     "text": [
      "Error occurred while fetching domain expiration time: % TCI Whois Service. Terms of use:\n",
      "% https://tcinet.ru/documents/whois_ru_rf.pdf (in Russian)\n",
      "% https://tcinet.ru/documents/whois_su.pdf (in Russian)\n",
      "\n",
      "No entries found for the selected source(s).\n",
      "\n",
      "Last updated on 2024-04-09T20:51:31Z\n",
      "\n",
      "\n",
      "Failed to retrieve expiration date for the domain: arujit.github.io\n",
      "Error occurred while fetching domain expiration time: No match for \"ZONADEREGISTROSENLINEABNWEB1.COM\".\n",
      ">>> Last update of whois database: 2024-04-09T20:52:46Z <<<\n",
      "\n",
      "NOTICE: The expiration date displayed in this record is the date the\n",
      "registrar's sponsorship of the domain name registration in the registry is\n",
      "currently set to expire. This date does not necessarily reflect the expiration\n",
      "date of the domain name registrant's agreement with the sponsoring\n",
      "registrar.  Users may consult the sponsoring registrar's Whois database to\n",
      "view the registrar's reported date of expiration for this registration.\n",
      "\n",
      "TERMS OF USE: You are not authorized to access or query our Whois\n",
      "database through the use of electronic processes that are high-volume and\n",
      "automated except as reasonably necessary to register domain names or\n",
      "modify existing registrations; the Data in VeriSign Global Registry\n",
      "Services' (\"VeriSign\") Whois database is provided by VeriSign for\n",
      "information purposes only, and to assist persons in obtaining information\n",
      "about or related to a domain name registration record. VeriSign does not\n",
      "guarantee its accuracy. By submitting a Whois query, you agree to abide\n",
      "by the following terms of use: You agree that you may use this Data only\n",
      "for lawful purposes and that under no circumstances will you use this Data\n",
      "to: (1) allow, enable, or otherwise support the transmission of mass\n",
      "unsolicited, commercial advertising or solicitations via e-mail, telephone,\n",
      "or facsimile; or (2) enable high volume, automated, electronic processes\n",
      "that apply to VeriSign (or its computer systems). The compilation,\n",
      "repackaging, dissemination or other use of this Data is expressly\n",
      "prohibited without the prior written consent of VeriSign. You agree not to\n",
      "use electronic processes that are automated and high-volume to access or\n",
      "query the Whois database except as reasonably necessary to register\n",
      "domain names or modify existing registrations. VeriSign reserves the right\n",
      "to restrict your access to the Whois database in its sole discretion to ensure\n",
      "operational stability.  VeriSign may restrict or terminate your access to the\n",
      "Whois database for failure to abide by these terms of use. VeriSign\n",
      "reserves the right to modify these terms at any time.\n",
      "\n",
      "The Registry database contains ONLY .COM, .NET, .EDU domains and\n",
      "Registrars.\n",
      "\n"
     ]
    }
   ],
   "source": [
    "from Main_Features import *\n",
    "\n",
    "input_file = r'C:\\Users\\Achilles2000\\Desktop\\Data\\Main Files\\New Data\\output.csv'\n",
    "output_file= r'C:\\Users\\Achilles2000\\Desktop\\Data\\Main Files\\New Data\\Test_CSV.csv'\n",
    "main(input_file, output_file)"
   ]
  },
  {
   "cell_type": "code",
   "execution_count": 2,
   "metadata": {},
   "outputs": [
    {
     "name": "stdout",
     "output_type": "stream",
     "text": [
      "Name: python-whois\n",
      "Version: 0.8.0\n",
      "Summary: Whois querying and parsing of domain registration information.\n",
      "Home-page: https://github.com/richardpenman/whois\n",
      "Author: Richard Penman\n",
      "Author-email: richard.penman@gmail.com\n",
      "License: MIT\n",
      "Location: C:\\Users\\Achilles2000\\AppData\\Local\\Packages\\PythonSoftwareFoundation.Python.3.11_qbz5n2kfra8p0\\LocalCache\\local-packages\\Python311\\site-packages\n",
      "Requires: future\n",
      "Required-by: \n",
      "Note: you may need to restart the kernel to use updated packages.\n"
     ]
    }
   ],
   "source": [
    "pip show python-whois"
   ]
  }
 ],
 "metadata": {
  "kernelspec": {
   "display_name": "Python 3",
   "language": "python",
   "name": "python3"
  },
  "language_info": {
   "codemirror_mode": {
    "name": "ipython",
    "version": 3
   },
   "file_extension": ".py",
   "mimetype": "text/x-python",
   "name": "python",
   "nbconvert_exporter": "python",
   "pygments_lexer": "ipython3",
   "version": "3.11.9"
  }
 },
 "nbformat": 4,
 "nbformat_minor": 2
}
